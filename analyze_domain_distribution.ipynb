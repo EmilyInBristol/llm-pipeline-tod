{
 "cells": [
  {
   "cell_type": "code",
   "execution_count": 1,
   "id": "43b9e9cb-979b-49bc-8636-fa831e18e431",
   "metadata": {},
   "outputs": [],
   "source": [
    "from datasets import load_dataset\n",
    "\n",
    "dataset = load_dataset('multi_woz_v22')"
   ]
  },
  {
   "cell_type": "code",
   "execution_count": 2,
   "id": "8c310f35-9460-4347-9b7f-ed5629dd1e78",
   "metadata": {},
   "outputs": [
    {
     "name": "stdout",
     "output_type": "stream",
     "text": [
      "DatasetDict({\n",
      "    train: Dataset({\n",
      "        features: ['dialogue_id', 'services', 'turns'],\n",
      "        num_rows: 8437\n",
      "    })\n",
      "    validation: Dataset({\n",
      "        features: ['dialogue_id', 'services', 'turns'],\n",
      "        num_rows: 1000\n",
      "    })\n",
      "    test: Dataset({\n",
      "        features: ['dialogue_id', 'services', 'turns'],\n",
      "        num_rows: 1000\n",
      "    })\n",
      "})\n"
     ]
    }
   ],
   "source": [
    "print(dataset)"
   ]
  },
  {
   "cell_type": "code",
   "execution_count": 3,
   "id": "c345d2c0-cc95-4583-af31-e6247c6cbaef",
   "metadata": {},
   "outputs": [
    {
     "name": "stdout",
     "output_type": "stream",
     "text": [
      "Dialogue count per domain (non-unique):\n",
      "restaurant: 4728\n",
      "hotel: 4182\n",
      "train: 3931\n",
      "attraction: 3485\n",
      "taxi: 1872\n",
      "hospital: 108\n",
      "bus: 6\n",
      "============================================================\n",
      "Number of dialogues with N domains:\n",
      "0 domain(s): 417 dialogues\n",
      "1 domain(s): 3275 dialogues\n",
      "2 domain(s): 5229 dialogues\n",
      "3 domain(s): 1485 dialogues\n",
      "4 domain(s): 31 dialogues\n"
     ]
    }
   ],
   "source": [
    "from collections import Counter\n",
    "from datasets import DatasetDict\n",
    "\n",
    "# 用于统计所有 split 中的 domain 分布\n",
    "domain_counter = Counter()\n",
    "# 用于统计每个对话中涉及的 domain 数量的分布\n",
    "domain_count_distribution = Counter()\n",
    "\n",
    "for split in ['train', 'validation', 'test']:\n",
    "    dataset_split = dataset[split]\n",
    "    for services in dataset_split['services']:\n",
    "        # services 是一个 domain 列表，如 ['restaurant', 'hotel']\n",
    "        domain_counter.update(services)\n",
    "        \n",
    "        num_domains = len(set(services))  # 去重后计算 domain 数量\n",
    "        domain_count_distribution[num_domains] += 1\n",
    "\n",
    "# 打印每个 domain 出现的 dialogue 数量（注意：重复 domain 会被重复计数）\n",
    "print(\"Dialogue count per domain (non-unique):\")\n",
    "for domain, count in domain_counter.most_common():\n",
    "    print(f\"{domain}: {count}\")\n",
    "\n",
    "print(\"==\"*30)\n",
    "\n",
    "# 打印每个 domain 数量对应的对话数量\n",
    "print(\"Number of dialogues with N domains:\")\n",
    "for num_domains, count in sorted(domain_count_distribution.items()):\n",
    "    print(f\"{num_domains} domain(s): {count} dialogues\")"
   ]
  },
  {
   "cell_type": "code",
   "execution_count": null,
   "id": "bfa3a432-4203-480f-afeb-2e728db805cc",
   "metadata": {},
   "outputs": [],
   "source": []
  }
 ],
 "metadata": {
  "kernelspec": {
   "display_name": "text_analytics",
   "language": "python",
   "name": "text_analytics"
  },
  "language_info": {
   "codemirror_mode": {
    "name": "ipython",
    "version": 3
   },
   "file_extension": ".py",
   "mimetype": "text/x-python",
   "name": "python",
   "nbconvert_exporter": "python",
   "pygments_lexer": "ipython3",
   "version": "3.11.11"
  }
 },
 "nbformat": 4,
 "nbformat_minor": 5
}
